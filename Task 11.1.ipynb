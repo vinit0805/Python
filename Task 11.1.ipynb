{
 "cells": [
  {
   "cell_type": "markdown",
   "metadata": {},
   "source": [
    "### Task 11.1 "
   ]
  },
  {
   "cell_type": "code",
   "execution_count": 1,
   "metadata": {},
   "outputs": [
    {
     "name": "stdout",
     "output_type": "stream",
     "text": [
      "select 2 numbers\n",
      "Number 1 : 66\n",
      "Number 2 : 55\n",
      "press 1 for Addition\n",
      "press 2 for subtraction\n",
      "press 3 for multiplication\n",
      "press 4 for division\n",
      "3\n",
      "3630\n"
     ]
    }
   ],
   "source": [
    "print (\"select 2 numbers\")\n",
    "num1= int(input(\"Number 1 : \" ))\n",
    "num2= int(input(\"Number 2 : \"))\n",
    "print(\"press 1 for Addition\")\n",
    "print(\"press 2 for subtraction\")\n",
    "print(\"press 3 for multiplication\")\n",
    "print(\"press 4 for division\")\n",
    "num3 = int(input())\n",
    "def add(num1,num2):\n",
    "    return num1 + num2\n",
    "def sub(num1,num2):\n",
    "    return num1-num2\n",
    "def multiply(num1,num2):\n",
    "    return(num1*num2)\n",
    "def divide(num1,num2):\n",
    "    return(num1/num2)\n",
    "if num3 == 1:\n",
    "    print(add(num1,num2))\n",
    "elif num3 == 2:\n",
    "    print(sub(num1,num2))\n",
    "elif num3==3:\n",
    "    print(multiply(num1,num2))\n",
    "elif num3== 4:\n",
    "    print(divide(num1,num2))"
   ]
  },
  {
   "cell_type": "code",
   "execution_count": null,
   "metadata": {},
   "outputs": [],
   "source": []
  }
 ],
 "metadata": {
  "kernelspec": {
   "display_name": "Python 3",
   "language": "python",
   "name": "python3"
  },
  "language_info": {
   "codemirror_mode": {
    "name": "ipython",
    "version": 3
   },
   "file_extension": ".py",
   "mimetype": "text/x-python",
   "name": "python",
   "nbconvert_exporter": "python",
   "pygments_lexer": "ipython3",
   "version": "3.8.5"
  }
 },
 "nbformat": 4,
 "nbformat_minor": 4
}
